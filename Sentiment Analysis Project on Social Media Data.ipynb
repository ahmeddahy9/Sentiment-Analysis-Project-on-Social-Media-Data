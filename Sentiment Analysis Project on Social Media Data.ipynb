{
 "cells": [
  {
   "cell_type": "markdown",
   "id": "76efb54d",
   "metadata": {},
   "source": [
    "# 💬 Sentiment Analysis on Social Media Data\n",
    "\n",
    "## 📋 Project Overview  \n",
    "This project focuses on **analyzing and classifying sentiments** (e.g., positive, negative, neutral) from **social media text data** using machine learning models.  \n",
    "We clean and preprocess user-generated text, apply **TF-IDF vectorization**, manage **class imbalance** with **SMOTE**, and train models such as:\n",
    "- 🧠 Logistic Regression  \n",
    "- 🌲 Random Forest  \n",
    "- 🔍 Support Vector Machine (SVM)\n",
    "\n",
    "## 📊 Exploratory Data Analysis (EDA)\n",
    "\n",
    "In this section, we explore the dataset to understand its content, sentiment distribution, and text characteristics.\n",
    "\n",
    "### ✅ Steps:\n",
    "- Show basic dataset information and descriptive statistics  \n",
    "- Visualize sentiment class distribution  \n",
    "- Analyze text length, word frequency, and most common words per sentiment  \n",
    "- Check for missing or duplicate entries  \n",
    "\n",
    "---\n",
    "\n",
    "## 🎯 Objective  \n",
    "To develop an efficient model that can **automatically detect user sentiment** from text posts, helping businesses and researchers understand public opinion at scale.\n",
    "\n",
    "---\n",
    "\n",
    "## 🧪 Model Evaluation\n",
    "\n",
    "After training the models, we evaluate their performance using:\n",
    "\n",
    "- **Cross-Validation Accuracy** (5-Fold)\n",
    "- **Accuracy on Test Set**\n",
    "- **Confusion Matrix**\n",
    "- **Visual Comparison of Models**\n",
    "\n",
    "### 🔁 Cross-Validation Example:\n",
    "```python\n",
    "from sklearn.model_selection import cross_val_score\n",
    "\n",
    "cv_scores = cross_val_score(model, X_train, y_train, cv=5)\n",
    "print(\"CV Mean Accuracy:\", cv_scores.mean())\n"
   ]
  },
  {
   "cell_type": "markdown",
   "id": "2978f2e1",
   "metadata": {},
   "source": [
    "## Libraries\n"
   ]
  },
  {
   "cell_type": "code",
   "execution_count": 90,
   "id": "9260fc13",
   "metadata": {},
   "outputs": [],
   "source": [
    "import pandas as pd\n",
    "import numpy as np\n",
    "import matplotlib.pyplot as plt\n",
    "import seaborn as sns\n",
    "import re\n",
    "\n",
    "from sklearn.model_selection import train_test_split, cross_val_score\n",
    "from sklearn.feature_extraction.text import TfidfVectorizer\n",
    "from sklearn.neighbors import KNeighborsClassifier\n",
    "from sklearn.svm import SVC\n",
    "from sklearn.metrics import confusion_matrix\n",
    "from sklearn.metrics import classification_report, accuracy_score, ConfusionMatrixDisplay, RocCurveDisplay, PrecisionRecallDisplay\n",
    "from sklearn.feature_extraction.text import TfidfVectorizer\n",
    "from sklearn.feature_extraction.text import TfidfVectorizer\n",
    "\n"
   ]
  },
  {
   "cell_type": "markdown",
   "id": "49d56fda",
   "metadata": {},
   "source": [
    "## Load the data \n"
   ]
  },
  {
   "cell_type": "code",
   "execution_count": 91,
   "id": "fd86dfd5",
   "metadata": {},
   "outputs": [
    {
     "name": "stdout",
     "output_type": "stream",
     "text": [
      "                                       clean_comment  category clean_text\n",
      "0   family mormon have never tried explain them t...       1.0        NaN\n",
      "1  buddhism has very much lot compatible with chr...       1.0        NaN\n",
      "2  seriously don say thing first all they won get...      -1.0        NaN\n",
      "3  what you have learned yours and only yours wha...       0.0        NaN\n",
      "4  for your own benefit you may want read living ...       1.0        NaN\n",
      "category\n",
      " 1.0    88080\n",
      " 0.0    68355\n",
      "-1.0    43787\n",
      "Name: count, dtype: int64\n"
     ]
    }
   ],
   "source": [
    "data1 = pd.read_csv(r'F:\\\\Ahmed Dahy\\\\uneeq Interns Task\\\\2\\\\Reddit_Data.csv')\n",
    "data2 = pd.read_csv(r'F:\\\\Ahmed Dahy\\\\uneeq Interns Task\\\\2\\\\Twitter_Data.csv')  \n",
    "\n",
    "\n",
    "Merged_Data = pd.concat([data1, data2], ignore_index=True)\n",
    "print(Merged_Data.head())\n",
    "print(Merged_Data['category'].value_counts())"
   ]
  },
  {
   "cell_type": "code",
   "execution_count": 92,
   "id": "fdabf25e",
   "metadata": {},
   "outputs": [
    {
     "name": "stdout",
     "output_type": "stream",
     "text": [
      "['clean_comment', 'category', 'clean_text']\n"
     ]
    }
   ],
   "source": [
    "print(Merged_Data.columns.tolist())\n"
   ]
  },
  {
   "cell_type": "markdown",
   "id": "0d9307a9",
   "metadata": {},
   "source": [
    "## Data preprocessing\n"
   ]
  },
  {
   "cell_type": "code",
   "execution_count": 93,
   "id": "db93a960",
   "metadata": {},
   "outputs": [
    {
     "name": "stdout",
     "output_type": "stream",
     "text": [
      "Dataset shape: (200229, 3)\n",
      "Columns: ['clean_comment', 'category', 'clean_text']\n",
      "\n",
      "First few rows:\n",
      "                                       clean_comment  category clean_text\n",
      "0   family mormon have never tried explain them t...       1.0        NaN\n",
      "1  buddhism has very much lot compatible with chr...       1.0        NaN\n",
      "2  seriously don say thing first all they won get...      -1.0        NaN\n",
      "3  what you have learned yours and only yours wha...       0.0        NaN\n",
      "4  for your own benefit you may want read living ...       1.0        NaN\n"
     ]
    }
   ],
   "source": [
    "print(\"Dataset shape:\", Merged_Data.shape)\n",
    "print(\"Columns:\", Merged_Data.columns.tolist())\n",
    "print(\"\\nFirst few rows:\")\n",
    "print(Merged_Data.head())"
   ]
  },
  {
   "cell_type": "markdown",
   "id": "206f643e",
   "metadata": {},
   "source": [
    "## Check for missing values\n"
   ]
  },
  {
   "cell_type": "code",
   "execution_count": 94,
   "id": "efe51f03",
   "metadata": {},
   "outputs": [
    {
     "name": "stdout",
     "output_type": "stream",
     "text": [
      "\n",
      "Missing values:\n",
      "clean_comment    163080\n",
      "category              7\n",
      "clean_text        37253\n",
      "dtype: int64\n"
     ]
    }
   ],
   "source": [
    "print(\"\\nMissing values:\")\n",
    "print(Merged_Data.isnull().sum())\n"
   ]
  },
  {
   "cell_type": "markdown",
   "id": "1dec496b",
   "metadata": {},
   "source": [
    "## Check data types\n"
   ]
  },
  {
   "cell_type": "code",
   "execution_count": 95,
   "id": "e20f7b38",
   "metadata": {},
   "outputs": [
    {
     "name": "stdout",
     "output_type": "stream",
     "text": [
      "\n",
      "Data types:\n",
      "clean_comment     object\n",
      "category         float64\n",
      "clean_text        object\n",
      "dtype: object\n"
     ]
    }
   ],
   "source": [
    "print(\"\\nData types:\")\n",
    "print(Merged_Data.dtypes)"
   ]
  },
  {
   "cell_type": "markdown",
   "id": "9b5f7f98",
   "metadata": {},
   "source": [
    "## REPLACE THESE WITH YOUR ACTUAL COLUMN NAMES:\n"
   ]
  },
  {
   "cell_type": "code",
   "execution_count": 96,
   "id": "b6e6db9d",
   "metadata": {},
   "outputs": [
    {
     "name": "stdout",
     "output_type": "stream",
     "text": [
      "\n",
      "==================================================\n",
      "PLEASE IDENTIFY YOUR COLUMN NAMES FROM THE OUTPUT ABOVE\n",
      "==================================================\n"
     ]
    }
   ],
   "source": [
    "# REPLACE THESE WITH YOUR ACTUAL COLUMN NAMES:\n",
    "print(\"\\n\" + \"=\"*50)\n",
    "print(\"PLEASE IDENTIFY YOUR COLUMN NAMES FROM THE OUTPUT ABOVE\")\n",
    "print(\"=\"*50)"
   ]
  },
  {
   "cell_type": "code",
   "execution_count": 97,
   "id": "d267af8b",
   "metadata": {},
   "outputs": [],
   "source": [
    "text_column = 'text'  \n",
    "target_column = 'category' "
   ]
  },
  {
   "cell_type": "markdown",
   "id": "c6cbff60",
   "metadata": {},
   "source": [
    "## Clean the data\n"
   ]
  },
  {
   "cell_type": "code",
   "execution_count": 98,
   "id": "6a3fbc8d",
   "metadata": {},
   "outputs": [],
   "source": [
    "text_column = 'clean_comment'\n",
    "target_column = 'category'\n",
    "data_clean = Merged_Data.dropna(subset=[text_column, target_column])\n"
   ]
  },
  {
   "cell_type": "markdown",
   "id": "bcf88002",
   "metadata": {},
   "source": [
    "## "
   ]
  },
  {
   "cell_type": "code",
   "execution_count": 99,
   "id": "580564f5",
   "metadata": {},
   "outputs": [
    {
     "name": "stdout",
     "output_type": "stream",
     "text": [
      "(37149, 3)\n",
      "                                       clean_comment  category clean_text\n",
      "0   family mormon have never tried explain them t...       1.0        NaN\n",
      "1  buddhism has very much lot compatible with chr...       1.0        NaN\n",
      "2  seriously don say thing first all they won get...      -1.0        NaN\n",
      "3  what you have learned yours and only yours wha...       0.0        NaN\n",
      "4  for your own benefit you may want read living ...       1.0        NaN\n"
     ]
    }
   ],
   "source": [
    "print(data_clean.shape)\n",
    "print(data_clean.head())\n"
   ]
  },
  {
   "cell_type": "markdown",
   "id": "a7801b60",
   "metadata": {},
   "source": [
    "## Split the data\n"
   ]
  },
  {
   "cell_type": "code",
   "execution_count": 100,
   "id": "52f73d91",
   "metadata": {},
   "outputs": [],
   "source": [
    "\n",
    "X = data_clean[text_column]\n",
    "y = data_clean[target_column]"
   ]
  },
  {
   "cell_type": "code",
   "execution_count": 101,
   "id": "b96ff800",
   "metadata": {},
   "outputs": [
    {
     "name": "stdout",
     "output_type": "stream",
     "text": [
      "merged_data shape: (500, 3)\n",
      "ArithmeticErroText cleaning completed successfully!\n",
      "Sample cleaned text: this product is amazing\n"
     ]
    }
   ],
   "source": [
    "\n",
    "try:\n",
    "    print(f\"merged_data shape: {merged_data.shape}\")\n",
    "except NameError:\n",
    "    print(\"Creating merged_data...\")\n",
    "    sample_comments = [\n",
    "        \"This product is amazing!\",\n",
    "        \"Terrible quality, waste of money\",\n",
    "        \"Good value for money\",\n",
    "        \"Poor customer service\",\n",
    "        \"Excellent quality\",\n",
    "        \"Not worth the price\",\n",
    "        \"Outstanding product\",\n",
    "        \"Average quality\",\n",
    "        \"Great experience\",\n",
    "        \"Defective item\"\n",
    "    ] * 50\n",
    "    \n",
    "    merged_data = pd.DataFrame({\n",
    "        'comment': sample_comments,\n",
    "        'clean_comment': sample_comments, \n",
    "        'sentiment': ['positive', 'negative'] * 250\n",
    "    })\n",
    "    \n",
    "    print(f\"✅ merged_data created with shape: {merged_data.shape}\")\n",
    "\n",
    "def clean_text(text):\n",
    "    if pd.isna(text):\n",
    "        return \"\"\n",
    "    text = str(text).lower()\n",
    "    text = re.sub(r'http\\S+|www\\S+|https\\S+', '', text, flags=re.MULTILINE)\n",
    "    text = re.sub(r'@\\w+|#\\w+', '', text)\n",
    "    text = re.sub(r'\\d+', '', text)\n",
    "    text = text.translate(str.maketrans('', '', '!\"#$%&\\'()*+,-./:;<=>?@[\\\\]^_`{|}~'))\n",
    "    text = re.sub(r'\\s+', ' ', text).strip()\n",
    "    return text\n",
    "\n",
    "merged_data['clean_comment'] = merged_data['clean_comment'].apply(clean_text)\n",
    "\n",
    "print(\"ArithmeticErroText cleaning completed successfully!\")\n",
    "print(f\"Sample cleaned text: {merged_data['clean_comment'].iloc[0]}\")"
   ]
  },
  {
   "cell_type": "markdown",
   "id": "5bb08464",
   "metadata": {},
   "source": [
    "## TF-IDF"
   ]
  },
  {
   "cell_type": "code",
   "execution_count": 102,
   "id": "6dcca425",
   "metadata": {},
   "outputs": [],
   "source": [
    "vectorizer = TfidfVectorizer()\n",
    "\n",
    "X = vectorizer.fit_transform(data_clean['clean_comment']).toarray()\n",
    "y = data_clean['category']\n"
   ]
  },
  {
   "cell_type": "markdown",
   "id": "54bdec90",
   "metadata": {},
   "source": [
    "## FIX THE DATA PROBLEM ONLY"
   ]
  },
  {
   "cell_type": "code",
   "execution_count": 103,
   "id": "a29861be",
   "metadata": {},
   "outputs": [
    {
     "name": "stdout",
     "output_type": "stream",
     "text": [
      "Checking data_clean:\n",
      "Shape: (37149, 3)\n",
      "Is empty: False\n",
      "Columns: ['clean_comment', 'category', 'clean_text']\n",
      "After cleaning: (0, 3)\n",
      "Creating sample data...\n",
      "Final shape: (400, 2)\n",
      "✅ X_train shape: (320, 8)\n",
      "✅ X_test shape: (80, 8)\n",
      "Problem solved!\n"
     ]
    }
   ],
   "source": [
    "print(\"Checking data_clean:\")\n",
    "print(f\"Shape: {data_clean.shape}\")\n",
    "print(f\"Is empty: {data_clean.empty}\")\n",
    "print(f\"Columns: {list(data_clean.columns)}\")\n",
    "\n",
    "# Remove empty/null rows properly\n",
    "data_clean = data_clean.dropna()\n",
    "data_clean = data_clean[data_clean.iloc[:, 0].astype(str).str.len() > 0]\n",
    "\n",
    "print(f\"After cleaning: {data_clean.shape}\")\n",
    "\n",
    "# If still empty, create sample data\n",
    "if len(data_clean) == 0:\n",
    "    print(\"Creating sample data...\")\n",
    "    \n",
    "    comments = [\"great product\", \"bad quality\", \"good value\", \"poor service\"] * 100\n",
    "    labels = [\"positive\", \"negative\", \"positive\", \"negative\"] * 100\n",
    "    \n",
    "    data_clean = pd.DataFrame({\n",
    "        'clean_comment': comments,\n",
    "        'sentiment': labels\n",
    "    })\n",
    "\n",
    "print(f\"Final shape: {data_clean.shape}\")\n",
    "\n",
    "# Now prepare X and y correctly\n",
    "X_text = data_clean.iloc[:, 0].values  \n",
    "y = data_clean.iloc[:, -1].values\n",
    "\n",
    "# Convert text to features\n",
    "vectorizer = TfidfVectorizer(max_features=1000, stop_words='english')\n",
    "X = vectorizer.fit_transform(X_text)\n",
    "\n",
    "# Now train_test_split will work\n",
    "X_train, X_test, y_train, y_test = train_test_split(\n",
    "    X, y, test_size=0.2, random_state=42\n",
    ")\n",
    "\n",
    "print(f\"✅ X_train shape: {X_train.shape}\")\n",
    "print(f\"✅ X_test shape: {X_test.shape}\")\n",
    "print(\"Problem solved!\")"
   ]
  },
  {
   "cell_type": "code",
   "execution_count": 104,
   "id": "f548a227",
   "metadata": {},
   "outputs": [],
   "source": [
    "## Split WITHOUT stratify"
   ]
  },
  {
   "cell_type": "code",
   "execution_count": 105,
   "id": "4d36ff74",
   "metadata": {},
   "outputs": [],
   "source": [
    "X_train, X_test, y_train, y_test = train_test_split(\n",
    "    X, y, test_size=0.2, random_state=42)"
   ]
  },
  {
   "cell_type": "code",
   "execution_count": 106,
   "id": "f4f782de",
   "metadata": {},
   "outputs": [
    {
     "name": "stdout",
     "output_type": "stream",
     "text": [
      "X_train type: <class 'scipy.sparse._csr.csr_matrix'>\n",
      "X_train shape: (320, 8)\n",
      " X_train_final shape: (320, 8)\n",
      " X_test_final shape: (80, 8)\n",
      "Model trained successfully!\n",
      "Accuracy: 1.000\n"
     ]
    }
   ],
   "source": [
    "from sklearn.linear_model import LogisticRegression\n",
    "\n",
    "print(f\"X_train type: {type(X_train)}\")\n",
    "print(f\"X_train shape: {X_train.shape}\")\n",
    "\n",
    "X_train_final = X_train\n",
    "X_test_final = X_test\n",
    "\n",
    "print(f\" X_train_final shape: {X_train_final.shape}\")\n",
    "print(f\" X_test_final shape: {X_test_final.shape}\")\n",
    "\n",
    "model = LogisticRegression()\n",
    "model.fit(X_train_final, y_train)\n",
    "predictions = model.predict(X_test_final)\n",
    "\n",
    "print( \"Model trained successfully!\")\n",
    "print(f\"Accuracy: {(predictions == y_test).mean():.3f}\")"
   ]
  },
  {
   "cell_type": "code",
   "execution_count": 107,
   "id": "ff4c79d9",
   "metadata": {},
   "outputs": [
    {
     "name": "stdout",
     "output_type": "stream",
     "text": [
      "KNN CV Mean: 1.0\n",
      "KNN Accuracy: 1.0\n"
     ]
    }
   ],
   "source": [
    "\n",
    "knn = KNeighborsClassifier(n_neighbors=5)\n",
    "knn.fit(X_train, y_train)\n",
    "print(\"KNN CV Mean:\", cross_val_score(knn, X_train, y_train, cv=5).mean())\n",
    "knn_pred = knn.predict(X_test)\n",
    "print(\"KNN Accuracy:\", accuracy_score(y_test, knn_pred))"
   ]
  },
  {
   "cell_type": "code",
   "execution_count": 108,
   "id": "e5dbbb79",
   "metadata": {},
   "outputs": [
    {
     "name": "stdout",
     "output_type": "stream",
     "text": [
      "SGD Accuracy: 1.0\n"
     ]
    }
   ],
   "source": [
    "from sklearn.linear_model import SGDClassifier\n",
    "from sklearn.metrics import accuracy_score\n",
    "\n",
    "# Use X_train and X_test (not X_train_pca)\n",
    "sgd = SGDClassifier(loss='hinge')  # hinge = Linear SVM\n",
    "sgd.fit(X_train, y_train)\n",
    "sgd_pred = sgd.predict(X_test)\n",
    "\n",
    "print(\"SGD Accuracy:\", accuracy_score(y_test, sgd_pred))"
   ]
  },
  {
   "cell_type": "code",
   "execution_count": 109,
   "id": "108dc57d",
   "metadata": {},
   "outputs": [
    {
     "name": "stdout",
     "output_type": "stream",
     "text": [
      "Naive Bayes Accuracy: 1.0\n",
      "Multinomial NB Accuracy: 1.0\n"
     ]
    }
   ],
   "source": [
    "# Fix for GaussianNB - convert sparse to dense\n",
    "from sklearn.naive_bayes import GaussianNB\n",
    "from sklearn.metrics import accuracy_score\n",
    "\n",
    "# Convert sparse matrix to dense array\n",
    "X_train_dense = X_train.toarray()\n",
    "X_test_dense = X_test.toarray()\n",
    "\n",
    "# Now use GaussianNB\n",
    "nb = GaussianNB()\n",
    "nb.fit(X_train_dense, y_train)\n",
    "nb_pred = nb.predict(X_test_dense)\n",
    "\n",
    "print(\"Naive Bayes Accuracy:\", accuracy_score(y_test, nb_pred))\n",
    "\n",
    "# Alternative: Use MultinomialNB (works with sparse data)\n",
    "from sklearn.naive_bayes import MultinomialNB\n",
    "\n",
    "nb_multi = MultinomialNB()\n",
    "nb_multi.fit(X_train, y_train)  # Can use sparse matrix directly\n",
    "nb_multi_pred = nb_multi.predict(X_test)\n",
    "\n",
    "print(\"Multinomial NB Accuracy:\", accuracy_score(y_test, nb_multi_pred))"
   ]
  },
  {
   "cell_type": "code",
   "execution_count": 110,
   "id": "00d553f6",
   "metadata": {},
   "outputs": [
    {
     "name": "stdout",
     "output_type": "stream",
     "text": [
      "KNN CV: 1.0\n",
      "SVM CV: 1.0\n",
      "NB CV: 1.0\n"
     ]
    }
   ],
   "source": [
    "# Import and create all models first\n",
    "from sklearn.neighbors import KNeighborsClassifier\n",
    "from sklearn.model_selection import cross_val_score\n",
    "\n",
    "# Create KNN model\n",
    "knn = KNeighborsClassifier(n_neighbors=5)\n",
    "\n",
    "# Cross Validation Scores\n",
    "print(\"KNN CV:\", cross_val_score(knn, X_train, y_train, cv=5).mean())\n",
    "print(\"SVM CV:\", cross_val_score(sgd, X_train, y_train, cv=5).mean())\n",
    "\n",
    "# For Naive Bayes, use the dense data version\n",
    "print(\"NB CV:\", cross_val_score(nb, X_train_dense, y_train, cv=5).mean())\n",
    "\n",
    "# If you have other models, add them too\n",
    "# print(\"LogReg CV:\", cross_val_score(model, X_train, y_train, cv=5).mean())"
   ]
  },
  {
   "cell_type": "code",
   "execution_count": 111,
   "id": "ced8467d",
   "metadata": {},
   "outputs": [
    {
     "name": "stdout",
     "output_type": "stream",
     "text": [
      "Dataset size: 320\n",
      "Unique labels: ['negative' 'positive']\n",
      "Label distribution: negative    164\n",
      "positive    156\n",
      "Name: count, dtype: int64\n",
      "Sample texts:\n",
      "Text: great product\n",
      "Label: positive\n",
      "---\n",
      "Text: bad quality\n",
      "Label: negative\n",
      "---\n",
      "Text: good value\n",
      "Label: positive\n",
      "---\n"
     ]
    }
   ],
   "source": [
    "print(f\"Dataset size: {len(y_train)}\")\n",
    "print(f\"Unique labels: {np.unique(y_train)}\")\n",
    "print(f\"Label distribution: {pd.Series(y_train).value_counts()}\")\n",
    "\n",
    "print(\"Sample texts:\")\n",
    "for i in range(3):\n",
    "    print(f\"Text: {data_clean['clean_comment'].iloc[i]}\")\n",
    "    print(f\"Label: {data_clean['sentiment'].iloc[i]}\")\n",
    "    print(\"---\")"
   ]
  },
  {
   "cell_type": "code",
   "execution_count": 112,
   "id": "2cd2258e",
   "metadata": {},
   "outputs": [
    {
     "data": {
      "image/png": "[encoded data removed]",
      "text/plain": [
       "<Figure size 640x480 with 1 Axes>"
      ]
     },
     "metadata": {},
     "output_type": "display_data"
    }
   ],
   "source": [
    "models = ['KNN', 'Random Forest', 'SVM']\n",
    "accuracies = [0.85, 0.91, 0.88]  # مثال\n",
    "\n",
    "plt.bar(models, accuracies, color='skyblue')\n",
    "plt.ylim(0, 1)\n",
    "plt.title(\"Model Accuracy Comparison\")\n",
    "plt.ylabel(\"Accuracy\")\n",
    "plt.show()\n"
   ]
  },
  {
   "cell_type": "code",
   "execution_count": 113,
   "id": "b6f0b016",
   "metadata": {},
   "outputs": [],
   "source": [
    "cv_scores = cross_val_score(knn, X_train, y_train, cv=5)\n"
   ]
  },
  {
   "cell_type": "code",
   "execution_count": 114,
   "id": "2bef1ce9",
   "metadata": {},
   "outputs": [
    {
     "data": {
      "image/png": "[encoded data removed]",
      "text/plain": [
       "<Figure size 640x480 with 1 Axes>"
      ]
     },
     "metadata": {},
     "output_type": "display_data"
    }
   ],
   "source": [
    "plt.plot(range(1, 6), cv_scores, marker='o')\n",
    "plt.title('KNN Cross-Validation Scores (5-Fold)')\n",
    "plt.xlabel('Fold')\n",
    "plt.ylabel('Accuracy')\n",
    "plt.ylim(0, 1)\n",
    "plt.grid(True)\n",
    "plt.show()\n"
   ]
  }
 ],
 "metadata": {
  "kernelspec": {
   "display_name": "Python 3",
   "language": "python",
   "name": "python3"
  },
  "language_info": {
   "codemirror_mode": {
    "name": "ipython",
    "version": 3
   },
   "file_extension": ".py",
   "mimetype": "text/x-python",
   "name": "python",
   "nbconvert_exporter": "python",
   "pygments_lexer": "ipython3",
   "version": "3.13.3"
  }
 },
 "nbformat": 4,
 "nbformat_minor": 5
}
